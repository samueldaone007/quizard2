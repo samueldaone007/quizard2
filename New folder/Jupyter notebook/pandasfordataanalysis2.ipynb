{
 "cells": [
  {
   "cell_type": "code",
   "execution_count": 2,
   "id": "b4f8acb4-8c39-4522-8ae6-e612dcfd78a0",
   "metadata": {},
   "outputs": [],
   "source": [
    "import seaborn as sns"
   ]
  },
  {
   "cell_type": "code",
   "execution_count": 4,
   "id": "08fbb3d4-93fb-410d-8b0f-7604c5ce6748",
   "metadata": {},
   "outputs": [],
   "source": [
    "df = sns.load_dataset('flights')"
   ]
  },
  {
   "cell_type": "code",
   "execution_count": 6,
   "id": "736bc5a2-07fa-43b6-ba80-0e9129a35952",
   "metadata": {},
   "outputs": [
    {
     "data": {
      "text/html": [
       "<div>\n",
       "<style scoped>\n",
       "    .dataframe tbody tr th:only-of-type {\n",
       "        vertical-align: middle;\n",
       "    }\n",
       "\n",
       "    .dataframe tbody tr th {\n",
       "        vertical-align: top;\n",
       "    }\n",
       "\n",
       "    .dataframe thead th {\n",
       "        text-align: right;\n",
       "    }\n",
       "</style>\n",
       "<table border=\"1\" class=\"dataframe\">\n",
       "  <thead>\n",
       "    <tr style=\"text-align: right;\">\n",
       "      <th></th>\n",
       "      <th>year</th>\n",
       "      <th>month</th>\n",
       "      <th>passengers</th>\n",
       "    </tr>\n",
       "  </thead>\n",
       "  <tbody>\n",
       "    <tr>\n",
       "      <th>0</th>\n",
       "      <td>1949</td>\n",
       "      <td>Jan</td>\n",
       "      <td>112</td>\n",
       "    </tr>\n",
       "    <tr>\n",
       "      <th>1</th>\n",
       "      <td>1949</td>\n",
       "      <td>Feb</td>\n",
       "      <td>118</td>\n",
       "    </tr>\n",
       "    <tr>\n",
       "      <th>2</th>\n",
       "      <td>1949</td>\n",
       "      <td>Mar</td>\n",
       "      <td>132</td>\n",
       "    </tr>\n",
       "    <tr>\n",
       "      <th>3</th>\n",
       "      <td>1949</td>\n",
       "      <td>Apr</td>\n",
       "      <td>129</td>\n",
       "    </tr>\n",
       "    <tr>\n",
       "      <th>4</th>\n",
       "      <td>1949</td>\n",
       "      <td>May</td>\n",
       "      <td>121</td>\n",
       "    </tr>\n",
       "  </tbody>\n",
       "</table>\n",
       "</div>"
      ],
      "text/plain": [
       "   year month  passengers\n",
       "0  1949   Jan         112\n",
       "1  1949   Feb         118\n",
       "2  1949   Mar         132\n",
       "3  1949   Apr         129\n",
       "4  1949   May         121"
      ]
     },
     "execution_count": 6,
     "metadata": {},
     "output_type": "execute_result"
    }
   ],
   "source": [
    "df.head()"
   ]
  },
  {
   "cell_type": "code",
   "execution_count": null,
   "id": "d8752bbc-3beb-476e-a5ee-9be8d86ebffa",
   "metadata": {},
   "outputs": [],
   "source": []
  },
  {
   "cell_type": "code",
   "execution_count": 8,
   "id": "8dcba3b8-14ac-472d-a0b3-0fecf55eac23",
   "metadata": {},
   "outputs": [
    {
     "data": {
      "text/plain": [
       "(144, 3)"
      ]
     },
     "execution_count": 8,
     "metadata": {},
     "output_type": "execute_result"
    }
   ],
   "source": [
    "df.shape"
   ]
  },
  {
   "cell_type": "code",
   "execution_count": 14,
   "id": "ad7a2d0c-842e-43c9-b48d-5573ce4a30d0",
   "metadata": {
    "scrolled": true
   },
   "outputs": [
    {
     "data": {
      "text/plain": [
       "Index(['year', 'month', 'passengers'], dtype='object')"
      ]
     },
     "execution_count": 14,
     "metadata": {},
     "output_type": "execute_result"
    }
   ],
   "source": [
    "df.columns"
   ]
  },
  {
   "cell_type": "code",
   "execution_count": 18,
   "id": "191a4045-5769-481d-8741-8a26f6d513ae",
   "metadata": {},
   "outputs": [
    {
     "name": "stdout",
     "output_type": "stream",
     "text": [
      "12\n"
     ]
    }
   ],
   "source": [
    "x = 0\n",
    "for i in df['year'].unique():\n",
    "    x+=1\n",
    "print(x)"
   ]
  },
  {
   "cell_type": "code",
   "execution_count": 24,
   "id": "721c372d-3762-4aff-adee-4c1587ff4582",
   "metadata": {},
   "outputs": [],
   "source": [
    "yar = df[df['year'] == 1960]"
   ]
  },
  {
   "cell_type": "code",
   "execution_count": 34,
   "id": "5b97970e-181b-4c95-950f-975326842ef4",
   "metadata": {},
   "outputs": [
    {
     "data": {
      "text/html": [
       "<div>\n",
       "<style scoped>\n",
       "    .dataframe tbody tr th:only-of-type {\n",
       "        vertical-align: middle;\n",
       "    }\n",
       "\n",
       "    .dataframe tbody tr th {\n",
       "        vertical-align: top;\n",
       "    }\n",
       "\n",
       "    .dataframe thead th {\n",
       "        text-align: right;\n",
       "    }\n",
       "</style>\n",
       "<table border=\"1\" class=\"dataframe\">\n",
       "  <thead>\n",
       "    <tr style=\"text-align: right;\">\n",
       "      <th></th>\n",
       "      <th>year</th>\n",
       "      <th>month</th>\n",
       "      <th>passengers</th>\n",
       "    </tr>\n",
       "  </thead>\n",
       "  <tbody>\n",
       "    <tr>\n",
       "      <th>132</th>\n",
       "      <td>1960</td>\n",
       "      <td>Jan</td>\n",
       "      <td>417</td>\n",
       "    </tr>\n",
       "    <tr>\n",
       "      <th>133</th>\n",
       "      <td>1960</td>\n",
       "      <td>Feb</td>\n",
       "      <td>391</td>\n",
       "    </tr>\n",
       "    <tr>\n",
       "      <th>134</th>\n",
       "      <td>1960</td>\n",
       "      <td>Mar</td>\n",
       "      <td>419</td>\n",
       "    </tr>\n",
       "    <tr>\n",
       "      <th>135</th>\n",
       "      <td>1960</td>\n",
       "      <td>Apr</td>\n",
       "      <td>461</td>\n",
       "    </tr>\n",
       "    <tr>\n",
       "      <th>136</th>\n",
       "      <td>1960</td>\n",
       "      <td>May</td>\n",
       "      <td>472</td>\n",
       "    </tr>\n",
       "    <tr>\n",
       "      <th>137</th>\n",
       "      <td>1960</td>\n",
       "      <td>Jun</td>\n",
       "      <td>535</td>\n",
       "    </tr>\n",
       "    <tr>\n",
       "      <th>138</th>\n",
       "      <td>1960</td>\n",
       "      <td>Jul</td>\n",
       "      <td>622</td>\n",
       "    </tr>\n",
       "    <tr>\n",
       "      <th>139</th>\n",
       "      <td>1960</td>\n",
       "      <td>Aug</td>\n",
       "      <td>606</td>\n",
       "    </tr>\n",
       "    <tr>\n",
       "      <th>140</th>\n",
       "      <td>1960</td>\n",
       "      <td>Sep</td>\n",
       "      <td>508</td>\n",
       "    </tr>\n",
       "    <tr>\n",
       "      <th>141</th>\n",
       "      <td>1960</td>\n",
       "      <td>Oct</td>\n",
       "      <td>461</td>\n",
       "    </tr>\n",
       "    <tr>\n",
       "      <th>142</th>\n",
       "      <td>1960</td>\n",
       "      <td>Nov</td>\n",
       "      <td>390</td>\n",
       "    </tr>\n",
       "    <tr>\n",
       "      <th>143</th>\n",
       "      <td>1960</td>\n",
       "      <td>Dec</td>\n",
       "      <td>432</td>\n",
       "    </tr>\n",
       "  </tbody>\n",
       "</table>\n",
       "</div>"
      ],
      "text/plain": [
       "     year month  passengers\n",
       "132  1960   Jan         417\n",
       "133  1960   Feb         391\n",
       "134  1960   Mar         419\n",
       "135  1960   Apr         461\n",
       "136  1960   May         472\n",
       "137  1960   Jun         535\n",
       "138  1960   Jul         622\n",
       "139  1960   Aug         606\n",
       "140  1960   Sep         508\n",
       "141  1960   Oct         461\n",
       "142  1960   Nov         390\n",
       "143  1960   Dec         432"
      ]
     },
     "execution_count": 34,
     "metadata": {},
     "output_type": "execute_result"
    }
   ],
   "source": [
    "yar"
   ]
  },
  {
   "cell_type": "code",
   "execution_count": 44,
   "id": "4d749dbb-10fe-4fe7-87e4-b2cfe84ad1b3",
   "metadata": {},
   "outputs": [
    {
     "data": {
      "text/plain": [
       "5714"
      ]
     },
     "execution_count": 44,
     "metadata": {},
     "output_type": "execute_result"
    }
   ],
   "source": [
    "yar['passengers'].sum()"
   ]
  },
  {
   "cell_type": "code",
   "execution_count": 60,
   "id": "856c4fb2-50a2-445c-8a7b-7e75374199a5",
   "metadata": {},
   "outputs": [
    {
     "data": {
      "text/plain": [
       "year\n",
       "1949    1520\n",
       "1950    1676\n",
       "1951    2042\n",
       "1952    2364\n",
       "1953    2700\n",
       "1954    2867\n",
       "1955    3408\n",
       "1956    3939\n",
       "1957    4421\n",
       "1958    4572\n",
       "1959    5140\n",
       "1960    5714\n",
       "Name: passengers, dtype: int64"
      ]
     },
     "execution_count": 60,
     "metadata": {},
     "output_type": "execute_result"
    }
   ],
   "source": [
    "df.groupby('year')['passengers'].sum()"
   ]
  },
  {
   "cell_type": "code",
   "execution_count": 63,
   "id": "a00d3ccd-0929-440e-8e04-c215191e220e",
   "metadata": {},
   "outputs": [
    {
     "data": {
      "text/plain": [
       "year\n",
       "1949    126.666667\n",
       "1950    139.666667\n",
       "1951    170.166667\n",
       "1952    197.000000\n",
       "1953    225.000000\n",
       "1954    238.916667\n",
       "1955    284.000000\n",
       "1956    328.250000\n",
       "1957    368.416667\n",
       "1958    381.000000\n",
       "1959    428.333333\n",
       "1960    476.166667\n",
       "Name: passengers, dtype: float64"
      ]
     },
     "execution_count": 63,
     "metadata": {},
     "output_type": "execute_result"
    }
   ],
   "source": [
    "df.groupby('year')['passengers'].mean()"
   ]
  },
  {
   "cell_type": "markdown",
   "id": "23ab19da-0b8d-4751-8e4e-ae6c8a9f9b71",
   "metadata": {},
   "source": [
    "1 Unique Years and Months"
   ]
  },
  {
   "cell_type": "code",
   "execution_count": 66,
   "id": "6082ce53-5d1f-47ae-8d9d-6de980b6c762",
   "metadata": {},
   "outputs": [
    {
     "data": {
      "text/plain": [
       "array([1949, 1950, 1951, 1952, 1953, 1954, 1955, 1956, 1957, 1958, 1959,\n",
       "       1960], dtype=int64)"
      ]
     },
     "execution_count": 66,
     "metadata": {},
     "output_type": "execute_result"
    }
   ],
   "source": [
    "df['year'].unique()"
   ]
  },
  {
   "cell_type": "code",
   "execution_count": 70,
   "id": "05e07971-5ba8-459f-acc3-cb34ce4aa9af",
   "metadata": {},
   "outputs": [
    {
     "data": {
      "text/plain": [
       "['Jan', 'Feb', 'Mar', 'Apr', 'May', ..., 'Aug', 'Sep', 'Oct', 'Nov', 'Dec']\n",
       "Length: 12\n",
       "Categories (12, object): ['Jan', 'Feb', 'Mar', 'Apr', ..., 'Sep', 'Oct', 'Nov', 'Dec']"
      ]
     },
     "execution_count": 70,
     "metadata": {},
     "output_type": "execute_result"
    }
   ],
   "source": [
    "df['month'].unique()"
   ]
  },
  {
   "cell_type": "markdown",
   "id": "949e2453-a872-40da-b4fe-abc938eab841",
   "metadata": {},
   "source": [
    "2. The total number of records"
   ]
  },
  {
   "cell_type": "code",
   "execution_count": 78,
   "id": "24504620-9db4-49c5-80f5-82a82576bc9f",
   "metadata": {},
   "outputs": [
    {
     "data": {
      "text/plain": [
       "(144, 3)"
      ]
     },
     "execution_count": 78,
     "metadata": {},
     "output_type": "execute_result"
    }
   ],
   "source": [
    "df.shape"
   ]
  },
  {
   "cell_type": "markdown",
   "id": "70d0110e-fc28-4023-9d9e-2eac56c34820",
   "metadata": {},
   "source": [
    "3. The total number of passengers across the years"
   ]
  },
  {
   "cell_type": "code",
   "execution_count": 82,
   "id": "5ee5b0dd-714a-4aac-917a-88dd28bb5b14",
   "metadata": {},
   "outputs": [
    {
     "data": {
      "text/plain": [
       "year\n",
       "1949    1520\n",
       "1950    1676\n",
       "1951    2042\n",
       "1952    2364\n",
       "1953    2700\n",
       "1954    2867\n",
       "1955    3408\n",
       "1956    3939\n",
       "1957    4421\n",
       "1958    4572\n",
       "1959    5140\n",
       "1960    5714\n",
       "Name: passengers, dtype: int64"
      ]
     },
     "execution_count": 82,
     "metadata": {},
     "output_type": "execute_result"
    }
   ],
   "source": [
    "df.groupby('year')['passengers'].sum()"
   ]
  },
  {
   "cell_type": "markdown",
   "id": "9113ed26-88b9-4cb2-98de-502c6f721aff",
   "metadata": {},
   "source": [
    "4. Average number of passengers per year"
   ]
  },
  {
   "cell_type": "code",
   "execution_count": 85,
   "id": "28dbe11e-897f-4542-87c5-af0dc5cb23f5",
   "metadata": {},
   "outputs": [
    {
     "data": {
      "text/plain": [
       "year\n",
       "1949    126.666667\n",
       "1950    139.666667\n",
       "1951    170.166667\n",
       "1952    197.000000\n",
       "1953    225.000000\n",
       "1954    238.916667\n",
       "1955    284.000000\n",
       "1956    328.250000\n",
       "1957    368.416667\n",
       "1958    381.000000\n",
       "1959    428.333333\n",
       "1960    476.166667\n",
       "Name: passengers, dtype: float64"
      ]
     },
     "execution_count": 85,
     "metadata": {},
     "output_type": "execute_result"
    }
   ],
   "source": [
    "df.groupby('year')['passengers'].mean()"
   ]
  },
  {
   "cell_type": "markdown",
   "id": "af2a1689-ab2c-4d03-8481-ae29a710a1f7",
   "metadata": {},
   "source": [
    "5. Which year had the highest number of passengers"
   ]
  },
  {
   "cell_type": "code",
   "execution_count": 92,
   "id": "50716ab1-3c4e-4ab1-83e6-7337cbca190f",
   "metadata": {},
   "outputs": [
    {
     "data": {
      "text/plain": [
       "5714"
      ]
     },
     "execution_count": 92,
     "metadata": {},
     "output_type": "execute_result"
    }
   ],
   "source": [
    "df.groupby('year')['passengers'].sum().max()"
   ]
  },
  {
   "cell_type": "markdown",
   "id": "0dcb47b8-6f68-480b-b143-c03d32b33327",
   "metadata": {},
   "source": [
    "6. Which month had the lowest number of pasengers(overall)"
   ]
  },
  {
   "cell_type": "code",
   "execution_count": 173,
   "id": "7d57d41c-107c-4172-b243-e2ed4c2009bd",
   "metadata": {},
   "outputs": [
    {
     "data": {
      "text/plain": [
       "0      112\n",
       "1      118\n",
       "2      132\n",
       "3      129\n",
       "4      121\n",
       "      ... \n",
       "139    606\n",
       "140    508\n",
       "141    461\n",
       "142    390\n",
       "143    432\n",
       "Name: passengers, Length: 144, dtype: int64"
      ]
     },
     "execution_count": 173,
     "metadata": {},
     "output_type": "execute_result"
    }
   ],
   "source": [
    "sam = df['passengers']\n",
    "sam"
   ]
  },
  {
   "cell_type": "markdown",
   "id": "c1f7cdc7-25b6-430d-a41f-d8800916d1c9",
   "metadata": {},
   "source": [
    "7. What is the average number of passengers per month(across the years)"
   ]
  },
  {
   "cell_type": "code",
   "execution_count": 132,
   "id": "236f8811-4e77-4913-b32d-453641a7689e",
   "metadata": {},
   "outputs": [
    {
     "name": "stderr",
     "output_type": "stream",
     "text": [
      "C:\\Users\\hp\\AppData\\Local\\Temp\\ipykernel_13660\\1379483493.py:1: FutureWarning: The default of observed=False is deprecated and will be changed to True in a future version of pandas. Pass observed=False to retain current behavior or observed=True to adopt the future default and silence this warning.\n",
      "  df.groupby('month')['passengers'].mean()\n"
     ]
    },
    {
     "data": {
      "text/plain": [
       "month\n",
       "Jan    241.750000\n",
       "Feb    235.000000\n",
       "Mar    270.166667\n",
       "Apr    267.083333\n",
       "May    271.833333\n",
       "Jun    311.666667\n",
       "Jul    351.333333\n",
       "Aug    351.083333\n",
       "Sep    302.416667\n",
       "Oct    266.583333\n",
       "Nov    232.833333\n",
       "Dec    261.833333\n",
       "Name: passengers, dtype: float64"
      ]
     },
     "execution_count": 132,
     "metadata": {},
     "output_type": "execute_result"
    }
   ],
   "source": [
    "df.groupby('month')['passengers'].mean()"
   ]
  },
  {
   "cell_type": "markdown",
   "id": "d5ab4941-1ae6-49db-8564-839a6f2dc108",
   "metadata": {},
   "source": [
    "8. in which month was the number of passengers highest in 1950"
   ]
  },
  {
   "cell_type": "code",
   "execution_count": 159,
   "id": "e7ab17af-7440-4bb9-a86e-80a65f205a5a",
   "metadata": {},
   "outputs": [
    {
     "data": {
      "text/html": [
       "<div>\n",
       "<style scoped>\n",
       "    .dataframe tbody tr th:only-of-type {\n",
       "        vertical-align: middle;\n",
       "    }\n",
       "\n",
       "    .dataframe tbody tr th {\n",
       "        vertical-align: top;\n",
       "    }\n",
       "\n",
       "    .dataframe thead th {\n",
       "        text-align: right;\n",
       "    }\n",
       "</style>\n",
       "<table border=\"1\" class=\"dataframe\">\n",
       "  <thead>\n",
       "    <tr style=\"text-align: right;\">\n",
       "      <th></th>\n",
       "      <th>year</th>\n",
       "      <th>month</th>\n",
       "      <th>passengers</th>\n",
       "    </tr>\n",
       "  </thead>\n",
       "  <tbody>\n",
       "    <tr>\n",
       "      <th>12</th>\n",
       "      <td>1950</td>\n",
       "      <td>Jan</td>\n",
       "      <td>115</td>\n",
       "    </tr>\n",
       "    <tr>\n",
       "      <th>13</th>\n",
       "      <td>1950</td>\n",
       "      <td>Feb</td>\n",
       "      <td>126</td>\n",
       "    </tr>\n",
       "    <tr>\n",
       "      <th>14</th>\n",
       "      <td>1950</td>\n",
       "      <td>Mar</td>\n",
       "      <td>141</td>\n",
       "    </tr>\n",
       "    <tr>\n",
       "      <th>15</th>\n",
       "      <td>1950</td>\n",
       "      <td>Apr</td>\n",
       "      <td>135</td>\n",
       "    </tr>\n",
       "    <tr>\n",
       "      <th>16</th>\n",
       "      <td>1950</td>\n",
       "      <td>May</td>\n",
       "      <td>125</td>\n",
       "    </tr>\n",
       "    <tr>\n",
       "      <th>17</th>\n",
       "      <td>1950</td>\n",
       "      <td>Jun</td>\n",
       "      <td>149</td>\n",
       "    </tr>\n",
       "    <tr>\n",
       "      <th>18</th>\n",
       "      <td>1950</td>\n",
       "      <td>Jul</td>\n",
       "      <td>170</td>\n",
       "    </tr>\n",
       "    <tr>\n",
       "      <th>19</th>\n",
       "      <td>1950</td>\n",
       "      <td>Aug</td>\n",
       "      <td>170</td>\n",
       "    </tr>\n",
       "    <tr>\n",
       "      <th>20</th>\n",
       "      <td>1950</td>\n",
       "      <td>Sep</td>\n",
       "      <td>158</td>\n",
       "    </tr>\n",
       "    <tr>\n",
       "      <th>21</th>\n",
       "      <td>1950</td>\n",
       "      <td>Oct</td>\n",
       "      <td>133</td>\n",
       "    </tr>\n",
       "    <tr>\n",
       "      <th>22</th>\n",
       "      <td>1950</td>\n",
       "      <td>Nov</td>\n",
       "      <td>114</td>\n",
       "    </tr>\n",
       "    <tr>\n",
       "      <th>23</th>\n",
       "      <td>1950</td>\n",
       "      <td>Dec</td>\n",
       "      <td>140</td>\n",
       "    </tr>\n",
       "  </tbody>\n",
       "</table>\n",
       "</div>"
      ],
      "text/plain": [
       "    year month  passengers\n",
       "12  1950   Jan         115\n",
       "13  1950   Feb         126\n",
       "14  1950   Mar         141\n",
       "15  1950   Apr         135\n",
       "16  1950   May         125\n",
       "17  1950   Jun         149\n",
       "18  1950   Jul         170\n",
       "19  1950   Aug         170\n",
       "20  1950   Sep         158\n",
       "21  1950   Oct         133\n",
       "22  1950   Nov         114\n",
       "23  1950   Dec         140"
      ]
     },
     "execution_count": 159,
     "metadata": {},
     "output_type": "execute_result"
    }
   ],
   "source": [
    "cr = df[df['year'] == 1950]\n",
    "\n",
    "cr"
   ]
  },
  {
   "cell_type": "code",
   "execution_count": null,
   "id": "7f374988-f094-4f3f-a097-3408eb40168a",
   "metadata": {},
   "outputs": [],
   "source": []
  }
 ],
 "metadata": {
  "kernelspec": {
   "display_name": "Python [conda env:base] *",
   "language": "python",
   "name": "conda-base-py"
  },
  "language_info": {
   "codemirror_mode": {
    "name": "ipython",
    "version": 3
   },
   "file_extension": ".py",
   "mimetype": "text/x-python",
   "name": "python",
   "nbconvert_exporter": "python",
   "pygments_lexer": "ipython3",
   "version": "3.12.7"
  }
 },
 "nbformat": 4,
 "nbformat_minor": 5
}
