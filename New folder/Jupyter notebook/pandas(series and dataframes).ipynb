{
 "cells": [
  {
   "cell_type": "code",
   "execution_count": 1,
   "id": "00119667-86a0-493c-b65f-659da264649c",
   "metadata": {},
   "outputs": [],
   "source": [
    "import pandas as pd"
   ]
  },
  {
   "cell_type": "markdown",
   "id": "7edbde7e-6c62-4ff5-bb67-a59eb0512201",
   "metadata": {},
   "source": [
    "# Pandas Series"
   ]
  },
  {
   "cell_type": "code",
   "execution_count": 16,
   "id": "d8546993-0449-48be-9c4e-143827a66617",
   "metadata": {},
   "outputs": [],
   "source": [
    "data = ['Josh', 'John', 'Mary', 'Anna', 'Peter']\n",
    "pos = ['a', 'b', 'c', 'd', 'e']\n",
    "\n",
    "series = pd.Series(data, index=pos)"
   ]
  },
  {
   "cell_type": "code",
   "execution_count": 18,
   "id": "72ae6512-de19-46f8-8276-a5658e7bcc64",
   "metadata": {},
   "outputs": [
    {
     "data": {
      "text/plain": [
       "a     Josh\n",
       "b     John\n",
       "c     Mary\n",
       "d     Anna\n",
       "e    Peter\n",
       "dtype: object"
      ]
     },
     "execution_count": 18,
     "metadata": {},
     "output_type": "execute_result"
    }
   ],
   "source": [
    "series"
   ]
  },
  {
   "cell_type": "code",
   "execution_count": 20,
   "id": "3f78ce9f-a9f0-4e64-82ad-752ad39bc70f",
   "metadata": {},
   "outputs": [],
   "source": [
    "series['f'] = 'Yamal'"
   ]
  },
  {
   "cell_type": "code",
   "execution_count": 22,
   "id": "bcd42947-168c-43ec-bc6b-ca569aa33274",
   "metadata": {},
   "outputs": [
    {
     "data": {
      "text/plain": [
       "a     Josh\n",
       "b     John\n",
       "c     Mary\n",
       "d     Anna\n",
       "e    Peter\n",
       "f    Yamal\n",
       "dtype: object"
      ]
     },
     "execution_count": 22,
     "metadata": {},
     "output_type": "execute_result"
    }
   ],
   "source": [
    "series"
   ]
  },
  {
   "cell_type": "code",
   "execution_count": 24,
   "id": "fc6c27af-bd5f-44ca-942f-b84ef942b007",
   "metadata": {},
   "outputs": [
    {
     "data": {
      "text/plain": [
       "pandas.core.series.Series"
      ]
     },
     "execution_count": 24,
     "metadata": {},
     "output_type": "execute_result"
    }
   ],
   "source": [
    "type(series)"
   ]
  },
  {
   "cell_type": "code",
   "execution_count": 36,
   "id": "1a6e75c6-a36b-467c-95b0-2fa39ccd98b1",
   "metadata": {},
   "outputs": [
    {
     "data": {
      "text/plain": [
       "b     John\n",
       "c     Mary\n",
       "d     Anna\n",
       "e    Peter\n",
       "f    Yamal\n",
       "dtype: object"
      ]
     },
     "execution_count": 36,
     "metadata": {},
     "output_type": "execute_result"
    }
   ],
   "source": [
    "series.drop('a')"
   ]
  },
  {
   "cell_type": "markdown",
   "id": "3c248c51-a283-4953-a8ea-e3c0f5b4b47c",
   "metadata": {},
   "source": [
    "# Pandas Data frame"
   ]
  },
  {
   "cell_type": "code",
   "execution_count": 43,
   "id": "ceff65f4-038f-4b94-a81e-36f98f5cabae",
   "metadata": {},
   "outputs": [],
   "source": [
    "x = {'Names' : ['Josh', 'John', 'Mary', 'Anna', 'Peter'],\n",
    "    'Score': [34, 38, 12, 90, 56],\n",
    "    'Age': [23, 34, 45, 23, 34]}\n",
    "\n",
    "info = pd.DataFrame(x)"
   ]
  },
  {
   "cell_type": "code",
   "execution_count": 45,
   "id": "105bc7ef-2da4-4124-985d-fa254e40d175",
   "metadata": {},
   "outputs": [
    {
     "data": {
      "text/html": [
       "<div>\n",
       "<style scoped>\n",
       "    .dataframe tbody tr th:only-of-type {\n",
       "        vertical-align: middle;\n",
       "    }\n",
       "\n",
       "    .dataframe tbody tr th {\n",
       "        vertical-align: top;\n",
       "    }\n",
       "\n",
       "    .dataframe thead th {\n",
       "        text-align: right;\n",
       "    }\n",
       "</style>\n",
       "<table border=\"1\" class=\"dataframe\">\n",
       "  <thead>\n",
       "    <tr style=\"text-align: right;\">\n",
       "      <th></th>\n",
       "      <th>Names</th>\n",
       "      <th>Score</th>\n",
       "      <th>Age</th>\n",
       "    </tr>\n",
       "  </thead>\n",
       "  <tbody>\n",
       "    <tr>\n",
       "      <th>0</th>\n",
       "      <td>Josh</td>\n",
       "      <td>34</td>\n",
       "      <td>23</td>\n",
       "    </tr>\n",
       "    <tr>\n",
       "      <th>1</th>\n",
       "      <td>John</td>\n",
       "      <td>38</td>\n",
       "      <td>34</td>\n",
       "    </tr>\n",
       "    <tr>\n",
       "      <th>2</th>\n",
       "      <td>Mary</td>\n",
       "      <td>12</td>\n",
       "      <td>45</td>\n",
       "    </tr>\n",
       "    <tr>\n",
       "      <th>3</th>\n",
       "      <td>Anna</td>\n",
       "      <td>90</td>\n",
       "      <td>23</td>\n",
       "    </tr>\n",
       "    <tr>\n",
       "      <th>4</th>\n",
       "      <td>Peter</td>\n",
       "      <td>56</td>\n",
       "      <td>34</td>\n",
       "    </tr>\n",
       "  </tbody>\n",
       "</table>\n",
       "</div>"
      ],
      "text/plain": [
       "   Names  Score  Age\n",
       "0   Josh     34   23\n",
       "1   John     38   34\n",
       "2   Mary     12   45\n",
       "3   Anna     90   23\n",
       "4  Peter     56   34"
      ]
     },
     "execution_count": 45,
     "metadata": {},
     "output_type": "execute_result"
    }
   ],
   "source": [
    "info"
   ]
  },
  {
   "cell_type": "code",
   "execution_count": null,
   "id": "1c4aa50b-359b-436b-aa09-fdbb5b23cfe7",
   "metadata": {},
   "outputs": [],
   "source": []
  }
 ],
 "metadata": {
  "kernelspec": {
   "display_name": "Python [conda env:base] *",
   "language": "python",
   "name": "conda-base-py"
  },
  "language_info": {
   "codemirror_mode": {
    "name": "ipython",
    "version": 3
   },
   "file_extension": ".py",
   "mimetype": "text/x-python",
   "name": "python",
   "nbconvert_exporter": "python",
   "pygments_lexer": "ipython3",
   "version": "3.12.7"
  }
 },
 "nbformat": 4,
 "nbformat_minor": 5
}
